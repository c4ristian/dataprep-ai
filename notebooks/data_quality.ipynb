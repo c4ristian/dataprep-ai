{
 "cells": [
  {
   "cell_type": "code",
   "execution_count": 10,
   "id": "be1f3d5a-3606-4486-bb20-9340de358fab",
   "metadata": {},
   "outputs": [
    {
     "name": "stdout",
     "output_type": "stream",
     "text": [
      "SQLite version: ('3.45.3',)\n"
     ]
    }
   ],
   "source": [
    "import sqlite3\n",
    "import pandas as pd\n",
    "\n",
    "# Specify the full path to the database file\n",
    "db_path = '../data/database.sqlite'\n",
    "\n",
    "# Connect to the database\n",
    "conn = sqlite3.connect(db_path)\n",
    "cursor = conn.cursor()\n",
    "\n",
    "# Now you can use the cursor to execute SQL commands\n",
    "cursor.execute(\"SELECT sqlite_version();\")\n",
    "print(\"SQLite version:\", cursor.fetchone())\n"
   ]
  },
  {
   "cell_type": "code",
   "execution_count": 11,
   "id": "08d02c66-d72a-461f-8570-831225bb5b50",
   "metadata": {},
   "outputs": [],
   "source": [
    "# Define the query\n",
    "query = \"\"\"\n",
    "SELECT * FROM G7_GDPs_transformed\n",
    "WHERE ISO_codes = \"US\" AND year >= 2010\n",
    "ORDER BY year DESC\n",
    "\"\"\"\n",
    "\n",
    "# Execute the query and load the results into a DataFrame\n",
    "df = pd.read_sql_query(query, conn)\n",
    "\n",
    "# Write sample to csv file\n",
    "df.to_csv(\"../tests/dqm_sample.csv\", index=False)"
   ]
  },
  {
   "cell_type": "code",
   "execution_count": 12,
   "id": "4cedaddf-f7a4-4dce-b7d4-62581abae586",
   "metadata": {},
   "outputs": [],
   "source": [
    "# Close the connection when done\n",
    "conn.close()"
   ]
  }
 ],
 "metadata": {
  "kernelspec": {
   "display_name": "Python 3 (ipykernel)",
   "language": "python",
   "name": "python3"
  },
  "language_info": {
   "codemirror_mode": {
    "name": "ipython",
    "version": 3
   },
   "file_extension": ".py",
   "mimetype": "text/x-python",
   "name": "python",
   "nbconvert_exporter": "python",
   "pygments_lexer": "ipython3",
   "version": "3.12.7"
  }
 },
 "nbformat": 4,
 "nbformat_minor": 5
}
